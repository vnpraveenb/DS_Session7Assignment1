{
 "cells": [
  {
   "cell_type": "code",
   "execution_count": 1,
   "metadata": {},
   "outputs": [
    {
     "name": "stdout",
     "output_type": "stream",
     "text": [
      "[  5.     4.67   5.67   6.67   9.67  28.67  49.33  72.67  84.    93.33\n",
      " 116.33]\n"
     ]
    }
   ],
   "source": [
    "#Given a sequence of n values x1, x2, ..., xn and a window size k>0, the k-th moving\n",
    "#average of the given sequence is defined as follows:\n",
    "#The moving average sequence has n-k+1 elements as shown below.\n",
    "#The moving averages with k=4 of a ten-value sequence (n=10) is shown below\n",
    "#i 1 2 3 4 5 6 7 8 9 10\n",
    "#===== == == == == == == == == == ==\n",
    "#Input 10 20 30 40 50 60 70 80 90 100\n",
    "#y1 25 = (10+20+30+40)/4\n",
    "#y2  35 = (20+30+40+50)/4\n",
    "#y3   45 = (30+40+50+60)/4\n",
    "#y4    55 = (40+50+60+70)/4\n",
    "#y5     65 = (50+60+70+80)/4\n",
    "#y6      75 = (60+70+80+90)/4\n",
    "#y7       85 = (70+80+90+100)/4\n",
    "#Thus, the moving average sequence has n-k+1=10-4+1=7 values.\n",
    "\n",
    "#Write a function to find moving average in an array over a window:\n",
    "#Test it over [3, 5, 7, 2, 8, 10, 11, 65, 72, 81, 99, 100, 150] and window of 3.\n",
    "\n",
    "import numpy as np\n",
    "\n",
    "def movingaverage(inputseq):\n",
    "    maseq =[]\n",
    "    k = 3\n",
    "    maseqlen = len(inputseq)-k+1\n",
    "    movavg=0\n",
    "    for i in range(len(inputseq)):\n",
    "        if( i < maseqlen):\n",
    "            movavg = (inputseq[i] +  inputseq[i+1] +  inputseq[i+2])/3\n",
    "            maseq.append(movavg)  \n",
    "        else:\n",
    "            break\n",
    "        movavg=0       \n",
    "    return  np.around(maseq,2)\n",
    "\n",
    "\n",
    "testseq = [3, 5, 7, 2, 8, 10, 11, 65, 72, 81, 99, 100, 150]\n",
    "print(movingaverage(testseq))\n",
    "\n",
    "        "
   ]
  },
  {
   "cell_type": "code",
   "execution_count": null,
   "metadata": {},
   "outputs": [],
   "source": []
  }
 ],
 "metadata": {
  "kernelspec": {
   "display_name": "Python 3",
   "language": "python",
   "name": "python3"
  },
  "language_info": {
   "codemirror_mode": {
    "name": "ipython",
    "version": 3
   },
   "file_extension": ".py",
   "mimetype": "text/x-python",
   "name": "python",
   "nbconvert_exporter": "python",
   "pygments_lexer": "ipython3",
   "version": "3.6.4"
  }
 },
 "nbformat": 4,
 "nbformat_minor": 2
}
